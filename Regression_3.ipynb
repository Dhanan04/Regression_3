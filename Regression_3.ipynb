{
 "cells": [
  {
   "cell_type": "markdown",
   "id": "f8fff470",
   "metadata": {},
   "source": [
    "#Ans1.) \n",
    "\n",
    "Precision and Recall:\n",
    "\n",
    "Precision: Precision is the ratio of correctly predicted positive observations to the total predicted positive observations. It measures the accuracy of positive predictions. It's calculated as TP / (TP + FP), where TP is the number of true positives and FP is the number of false positives.\n",
    "Recall: Recall is the ratio of correctly predicted positive observations to the all observations in the actual class. It measures the completeness of positive predictions. It's calculated as TP / (TP + FN), where TP is the number of true positives and FN is the number of false negatives.\n",
    "Precision focuses on the accuracy of positive predictions, while recall focuses on capturing all positive instances."
   ]
  },
  {
   "cell_type": "code",
   "execution_count": null,
   "id": "901fbc6e",
   "metadata": {},
   "outputs": [],
   "source": []
  },
  {
   "cell_type": "markdown",
   "id": "61e55deb",
   "metadata": {},
   "source": [
    "#Ans2.)\n",
    "\n",
    "F1 Score:\n",
    "\n",
    "The F1 score is the harmonic mean of precision and recall. It provides a balance between precision and recall. It's calculated as 2 * ((precision * recall) / (precision + recall)).\n",
    "F1 score is useful when the classes are imbalanced or when false positives and false negatives have different costs"
   ]
  },
  {
   "cell_type": "code",
   "execution_count": null,
   "id": "afd7bc2e",
   "metadata": {},
   "outputs": [],
   "source": []
  },
  {
   "cell_type": "markdown",
   "id": "372b50f9",
   "metadata": {},
   "source": [
    "#Ans3.)\n",
    "\n",
    "ROC and AUC:\n",
    "\n",
    "ROC (Receiver Operating Characteristic): ROC curve is a graphical representation of the true positive rate (recall) against the false positive rate. It shows the trade-off between sensitivity (true positive rate) and specificity (true negative rate).\n",
    "AUC (Area Under the Curve): AUC represents the area under the ROC curve. It quantifies the model's ability to discriminate between positive and negative classes. AUC closer to 1 indicates a better model."
   ]
  },
  {
   "cell_type": "code",
   "execution_count": null,
   "id": "c3d93cdf",
   "metadata": {},
   "outputs": [],
   "source": []
  },
  {
   "cell_type": "markdown",
   "id": "5031b42f",
   "metadata": {},
   "source": [
    "#Ans4.)\n",
    "\n",
    "Choosing the Best Metric:\n",
    "\n",
    "The choice of evaluation metric depends on the specific problem and business objectives.\n",
    "For balanced datasets and equal costs for false positives and false negatives, accuracy can be a suitable metric.\n",
    "For imbalanced datasets, precision, recall, F1 score, or AUC-ROC can be better metrics to consider."
   ]
  },
  {
   "cell_type": "code",
   "execution_count": null,
   "id": "af1c1549",
   "metadata": {},
   "outputs": [],
   "source": []
  },
  {
   "cell_type": "markdown",
   "id": "47b8c431",
   "metadata": {},
   "source": [
    "#Ans5.)\n",
    "\n",
    "Multiclass Classification:\n",
    "\n",
    "Multiclass classification involves classifying instances into one of three or more classes, as opposed to binary classification which involves classifying instances into one of two classes.\n",
    "In multiclass classification, the model predicts the probability of each class and selects the class with the highest probability as the final prediction"
   ]
  },
  {
   "cell_type": "code",
   "execution_count": null,
   "id": "431bf1f1",
   "metadata": {},
   "outputs": [],
   "source": []
  },
  {
   "cell_type": "markdown",
   "id": "7eabf950",
   "metadata": {},
   "source": [
    "#Ans6.)\n",
    "\n",
    "Logistic Regression for Multiclass Classification:\n",
    "\n",
    "Logistic regression can be extended to handle multiclass classification using techniques like one-vs-rest (OvR) or one-vs-one (OvO).\n",
    "In OvR, a separate logistic regression model is trained for each class, with one class as the positive class and the rest as the negative class.\n",
    "In OvO, a binary logistic regression model is trained for each pair of classes"
   ]
  },
  {
   "cell_type": "code",
   "execution_count": null,
   "id": "83a6f304",
   "metadata": {},
   "outputs": [],
   "source": []
  },
  {
   "cell_type": "markdown",
   "id": "5a16eb24",
   "metadata": {},
   "source": [
    "#Ans7.)\n",
    "\n",
    "Model Deployment:\n",
    "\n",
    "Model deployment is the process of making trained machine learning models available for use in real-world applications.\n",
    "It involves deploying models to production environments where they can be accessed by end-users or other systems."
   ]
  },
  {
   "cell_type": "code",
   "execution_count": null,
   "id": "e35136b4",
   "metadata": {},
   "outputs": [],
   "source": []
  },
  {
   "cell_type": "markdown",
   "id": "6e632adc",
   "metadata": {},
   "source": [
    "#Ans8.)\n",
    "\n",
    "Multi-Cloud Platforms:\n",
    "\n",
    "Multi-cloud platforms allow organizations to deploy and manage applications across multiple cloud service providers.\n",
    "They provide flexibility, redundancy, and scalability by distributing workloads across different cloud environments."
   ]
  },
  {
   "cell_type": "code",
   "execution_count": null,
   "id": "649be1ec",
   "metadata": {},
   "outputs": [],
   "source": []
  },
  {
   "cell_type": "markdown",
   "id": "04601b45",
   "metadata": {},
   "source": [
    "#Ans9.)\n",
    "\n",
    "Benefits and Challenges of Multi-Cloud Deployment:\n",
    "\n",
    "Benefits: Increased reliability, reduced vendor lock-in, cost optimization, better performance by leveraging the strengths of multiple cloud providers.\n",
    "Challenges: Complexity in managing multiple cloud environments, data governance and compliance issues, potential for increased costs if not managed properly."
   ]
  },
  {
   "cell_type": "code",
   "execution_count": null,
   "id": "8351c2dc",
   "metadata": {},
   "outputs": [],
   "source": []
  }
 ],
 "metadata": {
  "kernelspec": {
   "display_name": "Python 3 (ipykernel)",
   "language": "python",
   "name": "python3"
  },
  "language_info": {
   "codemirror_mode": {
    "name": "ipython",
    "version": 3
   },
   "file_extension": ".py",
   "mimetype": "text/x-python",
   "name": "python",
   "nbconvert_exporter": "python",
   "pygments_lexer": "ipython3",
   "version": "3.11.4"
  }
 },
 "nbformat": 4,
 "nbformat_minor": 5
}
